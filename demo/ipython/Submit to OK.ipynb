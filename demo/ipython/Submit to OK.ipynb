{
 "cells": [
  {
   "cell_type": "code",
   "execution_count": 1,
   "metadata": {
    "collapsed": false
   },
   "outputs": [],
   "source": [
    "# import zipimport\n",
    "# ok_bundle =  zipimport.zipimporter('./ok').load_module('client')\n",
    "# ok = ok_bundle.api.notebook.Notebook('ipy.ok')"
   ]
  },
  {
   "cell_type": "markdown",
   "metadata": {
    "collapsed": true
   },
   "source": [
    "## Hosted Settings: \n",
    "\n",
    "In a hosted environment such as jupyterhub: \n",
    "  - run `pip install okpy>=1.8.2 --upgrade`\n",
    "\n",
    "## Local Setting\n",
    "\n",
    "### For Local Dev:\n",
    "- run `jupyter notebook` from the root ok-client folder \n",
    "\n",
    "### Running from a distributed ok file \n",
    "```\n",
    "import zipimport\n",
    "ok_bundle =  zipimport.zipimporter('./ok').load_module('client')\n",
    "ok = ok_bundle.api.notebook.Notebook('ipy.ok')\n",
    "```"
   ]
  },
  {
   "cell_type": "code",
   "execution_count": 2,
   "metadata": {
    "collapsed": false
   },
   "outputs": [
    {
     "name": "stdout",
     "output_type": "stream",
     "text": [
      "=====================================================================\n",
      "Assignment: California Water Usage\n",
      "OK, version v1.8.1\n",
      "=====================================================================\n",
      "\n"
     ]
    }
   ],
   "source": [
    "from client.api.notebook import Notebook\n",
    "ok = Notebook('ipy.ok')"
   ]
  },
  {
   "cell_type": "code",
   "execution_count": 3,
   "metadata": {
    "collapsed": false
   },
   "outputs": [
    {
     "name": "stdout",
     "output_type": "stream",
     "text": [
      "\n",
      "Copy the following URL and open it in a web browser. To copy,\n",
      "highlight the URL, right-click, and select \"Copy\".\n",
      "\n",
      "https://okpy.org/client/login/\n",
      "\n",
      "After logging in, copy the code from the web page and paste it below.\n",
      "To paste, right-click and select \"Paste\".\n",
      "\n",
      "Paste your code here: asdv\n",
      "---------------------------------------------------------------------\n",
      "Authentication error: invalid grant\n",
      "---------------------------------------------------------------------\n"
     ]
    }
   ],
   "source": [
    "ok.auth(force=True)"
   ]
  },
  {
   "cell_type": "markdown",
   "metadata": {},
   "source": [
    "\n",
    "\n",
    "\n",
    "Part 1: Maps\n",
    "======\n",
    "The `districts` and `zips` data sets are `Map` objects. Documentation on mapping in the `datascience` package can be found at [data8.org/datascience/maps.html](http://data8.org/datascience/maps.html).  To view a map of California's water districts, run the cell below. Click on a district to see its description."
   ]
  },
  {
   "cell_type": "markdown",
   "metadata": {},
   "source": [
    "\n",
    "**Question 2.1.**  Assign the name `income_by_zipcode` to a table with just one row per ZIP code. When you group according to ZIP code, the remaining columns should be summed. In other words, for any other column such as `'N02650'`, the value of `'N02650'` in a row corresponding to ZIP code 90210 (for example) should be the sum of the values of `'N02650'` in the 6 rows of `income_raw` corresponding to ZIP code 90210."
   ]
  },
  {
   "cell_type": "code",
   "execution_count": 4,
   "metadata": {
    "collapsed": true
   },
   "outputs": [],
   "source": [
    "all_cities = [1, 2]"
   ]
  },
  {
   "cell_type": "code",
   "execution_count": 5,
   "metadata": {
    "collapsed": false
   },
   "outputs": [
    {
     "name": "stdout",
     "output_type": "stream",
     "text": [
      "~~~~~~~~~~~~~~~~~~~~~~~~~~~~~~~~~~~~~~~~~~~~~~~~~~~~~~~~~~~~~~~~~~~~~\n",
      "Running tests\n",
      "\n",
      "---------------------------------------------------------------------\n",
      "Test summary\n",
      "    Passed: 1\n",
      "    Failed: 0\n",
      "[ooooooooook] 100.0% passed\n",
      "\n",
      "Submit... 100% complete\n",
      "Submission successful for user: sumukh@berkeley.edu\n",
      "URL: https://okpy.org/ok/test/su16/ex/submissions/eV4yZ5\n",
      "\n"
     ]
    }
   ],
   "source": [
    "_ = ok.grade('q01')\n",
    "_ = ok.submit()\n"
   ]
  },
  {
   "cell_type": "markdown",
   "metadata": {},
   "source": [
    "\n",
    "**Question 3.1.**  Some stufff\n",
    "\n",
    "<img src=\"https://i.imgur.com/jicA2to.png\"/>\n",
    "\n"
   ]
  },
  {
   "cell_type": "code",
   "execution_count": null,
   "metadata": {
    "collapsed": false
   },
   "outputs": [],
   "source": [
    "_ = ok.grade('q02')  \n",
    "_ = ok.backup()"
   ]
  },
  {
   "cell_type": "code",
   "execution_count": null,
   "metadata": {
    "collapsed": true
   },
   "outputs": [],
   "source": []
  },
  {
   "cell_type": "code",
   "execution_count": null,
   "metadata": {
    "collapsed": true
   },
   "outputs": [],
   "source": [
    "ok.submit()"
   ]
  }
 ],
 "metadata": {
  "kernelspec": {
   "display_name": "Python 3",
   "language": "python",
   "name": "python3"
  },
  "language_info": {
   "codemirror_mode": {
    "name": "ipython",
    "version": 3
   },
   "file_extension": ".py",
   "mimetype": "text/x-python",
   "name": "python",
   "nbconvert_exporter": "python",
   "pygments_lexer": "ipython3",
   "version": "3.5.2"
  }
 },
 "nbformat": 4,
 "nbformat_minor": 0
}
